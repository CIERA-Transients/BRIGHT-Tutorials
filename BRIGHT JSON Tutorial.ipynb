{
 "cells": [
  {
   "cell_type": "code",
   "execution_count": 1,
   "metadata": {},
   "outputs": [],
   "source": [
    "%matplotlib inline\n",
    "# Imports\n",
    "import json\n",
    "import numpy as np\n",
    "import matplotlib.pyplot as plt\n",
    "from astropy.io import fits\n",
    "from pandas import read_csv\n",
    "from astropy.coordinates import SkyCoord\n",
    "import matplotlib\n",
    "import glob\n",
    "from astropy import units as u\n",
    "from astropy.coordinates import SkyCoord\n",
    "import os\n",
    "\n",
    "\n",
    "matplotlib.rcParams['font.family'] = 'serif'\n",
    "matplotlib.rcParams['axes.linewidth'] = 2."
   ]
  },
  {
   "cell_type": "markdown",
   "metadata": {},
   "source": [
    "# BRIGHT JSON File Tutorial\n",
    "\n",
    "In this tutorial, we'll go over how to get data from the JSON files we provide on BRIGHT. The first thing you should do is select the GRB's you want to download data for and hit the \"Download on JSON Metadata\" button at the top of the page. You'll get everything in a zip file which you can unzip and start working with!\n",
    "\n",
    "For this example, I have just downloaded the data for GRBs 050509B, 050709, and 050724."
   ]
  },
  {
   "cell_type": "code",
   "execution_count": 2,
   "metadata": {},
   "outputs": [],
   "source": [
    "# I prefer to use \"glob\" to search for all the json files wihtin a folder but you can replace this with\n",
    "# your favorite method!\n",
    "path = 'json/'\n",
    "files = glob.glob(path + '*.json', recursive = True)"
   ]
  },
  {
   "cell_type": "markdown",
   "metadata": {},
   "source": [
    "### Here are the main parameters in the JSON files: Please see the Nugent et al. 2022 and Fong et al. 2022 papers for more details!\n",
    "\n",
    "\"urls\" contains all the URLs for the references. \n",
    "\n",
    "\"type_GRB\" should always be short!\n",
    "\n",
    "\"RA_host\", \"Dec_host\", \"tel_pos\", \"tel_pos_ref\" contains the position of the host, the telescope used for the position of the host, and the reference for the position\n",
    "\n",
    "\"host_morphology\" - if we know if the galaxy is elliptical or spiral that will be shown here!\n",
    "\n",
    "\"host_SF\" - if the host is star-forming, transitioning from star-forming to quiescent, or quiescent\n",
    "\n",
    "\"T90\", \"fluence\", \"fluence_err_upper\", \"fluence_err_lower\": the gamma-ray duration and fluence with 1-sigma error\n",
    "\n",
    "\"xray\", \"opt\", \"radio\" - if the GRB was detected in the x-ray, optical, or radio bands\n",
    "\n",
    "\"offset\", \"offset_err_upper\", \"offset_err_lower\" - offset in arcsec from GRB to center of host\n",
    "\n",
    "\"offset_kpc\", \"offset_kpc_err_upper\", \"offset_kpc_err_lower\" - offset in arcsec from GRB to center of host\n",
    "\n",
    "\"offset_ref\": offset reference\n",
    "\n",
    "\"Pcc\", \"Pcc_ref\": the probabality of chance coincidence\n",
    "\n",
    "\"frac_flux\": fractional flux of the host\n",
    "\n",
    "\"hnorm_offset\", \"hnorm_offset_err\": host normalized offset (in units of effective radius)\n",
    "\n",
    "\"halflightrad\", \"eff_rad\": half light and effective radius of the host\n",
    "\n",
    "\"z\", \"z_err_upper\", \"z_err_lower\",\"z_ref\": redshift and 1-sigma errors, along with reference\n",
    "\n",
    "\"mass\", \"mass_err_upper\", \"mass_err_lower\": stellar mass of host and 1-sigma errors\n",
    "\n",
    "\"age\", \"age_err_upper\", \"age_err_lower\": stellar population age of host and 1-sigma errors\n",
    "\n",
    "\"logzsol\", \"logzsol_err_upper\", \"logzsol_err_lower\": stellar metallicity of host and 1-sigma errors\n",
    "\n",
    "\"gas_logz\", \"gas_logz_err_upper\", \"gas_logz_err_lower\": gas-phase metallicity of host and 1-sigma errors\n",
    "\n",
    "\"SFR\", \"SFR_err_upper\", \"SFR_err_lower\": star formation rate of host and 1-sigma errors\n",
    "\n",
    "\"dust2\", \"dust2_err_upper\", \"dust2_err_lower\": total dust attenuation of host and 1-sigma errors\n",
    "\n",
    "\"phot\", \"phot_err\", \"filters\", \"telescopes\", \"phot_refs\": photometry, the error, filters, telescopes, and references - if the error is zero, that is an upper limit (photometry is non-extinction corrected in AB magnitude)\n",
    "\n",
    "\"spec\", \"spec_tel\", \"spec_ref\": the observed spectrum (normalized to photometry in units of micro-Jy), telescope, and reference\n",
    "\n",
    "\"mod_phot\", \"mod_spec\": the Prospector model photometry and spectroscopy, normalized to photometry in units of micro-Jy \n",
    "\n",
    "\"comments\": we typically put if the redshift is from a spectrum or the Prospector fit\n",
    "\n",
    "\"FITS\": FITS files names associated with photometry\n",
    "\n",
    "\"corner\": Prospector corner plot name\n",
    "\n",
    "\"SED\": Prospector SED plot name\n",
    "\n",
    "\"color\": host thumbnail name\n",
    "\n",
    "\"H5\": Prospector h5 file name\n",
    "\n",
    "\"afterglow\": afterglow file name (this will be used on the LGRB not SGRB side)\n",
    "\n",
    "\"GCN\": GCN link\n",
    "\n",
    "\n",
    "# Example\n",
    "\n",
    "For this example, let's grab the name, the position, the r or R band photometry, and redshift for each of the hosts. Please note that the photometry is in AB magnitudes and non-extinction corrected. Use your favorite dust maps to correct them (which I will not be doing in this tutorial, but I recommend getting this code: https://dustmaps.readthedocs.io/en/latest/examples.html)."
   ]
  },
  {
   "cell_type": "code",
   "execution_count": 3,
   "metadata": {},
   "outputs": [
    {
     "name": "stdout",
     "output_type": "stream",
     "text": [
      "json/GRB050509B.json\n",
      "json/GRB050709.json\n",
      "json/GRB050724.json\n"
     ]
    }
   ],
   "source": [
    "# Some lists we'll use to store the data we want\n",
    "name = []\n",
    "zred = []\n",
    "host_coords = []\n",
    "magAB_r = []\n",
    "magAB_unc_r = []\n",
    "\n",
    "for file in files:\n",
    "    print(file)\n",
    "    \n",
    "    # Open and load the JSON file\n",
    "    f = open(file)\n",
    "    grb_dict = json.load(f)\n",
    "    \n",
    "    # Get the GRB name from the filename\n",
    "    grb_name = os.path.basename(file)[0:-5]\n",
    "    # Get filters, photometry + uncertainty, and redshift from JSON file \n",
    "    \n",
    "    # Get filters, photometry + uncertainty, and redshift from JSON file \n",
    "    filters = grb_dict['filters']\n",
    "    phot = grb_dict['phot']\n",
    "    phot_err = grb_dict['phot_err']\n",
    "    redshift = grb_dict['z']\n",
    "    \n",
    "    # Create an astropy cooridinate from the RA and Dec of the Host\n",
    "    \n",
    "    # Had to put a \"try\" statement in because som JSON files are currently not\n",
    "    # formatted correctly\n",
    "    try:\n",
    "        coords = SkyCoord(grb_dict['RA_host'], grb_dict['Dec_host'], frame='fk5', unit=(u.hourangle, u.deg))\n",
    "        \n",
    "        # If we only want the r-band magnitudes, for example\n",
    "        if 'r' in filters:\n",
    "            r_phot = np.array(phot)[np.where(np.array(filters) == 'r')][0]\n",
    "            r_phot_unc = np.array(phot_err)[np.where(np.array(filters) == 'r')][0]\n",
    "\n",
    "            # Append values to list\n",
    "            name.append(grb_name)\n",
    "            magAB_r.append(r_phot)\n",
    "            magAB_unc_r.append(r_phot_unc)\n",
    "            zred.append(redshift)\n",
    "            host_coords.append(coords)\n",
    "\n",
    "        elif ('r' not in filters) & ('R' in filters):\n",
    "            # We'll calculate the A_V values in magnitudes to subtract off from photometry\n",
    "            r_phot = np.array(phot)[np.where(np.array(filters) == 'R')][0] \n",
    "            r_phot_unc = np.array(phot_err)[np.where(np.array(filters) == 'R')][0]\n",
    "\n",
    "            # Append values to list\n",
    "            name.append(grb_name)\n",
    "            magAB_r.append(r_phot)\n",
    "            magAB_unc_r.append(r_phot_unc)\n",
    "            zred.append(redshift)\n",
    "            host_coords.append(coords)\n",
    "\n",
    "        else:\n",
    "            continue    \n",
    "        \n",
    "    except TypeError:\n",
    "        continue\n",
    "            \n",
    "    "
   ]
  },
  {
   "cell_type": "markdown",
   "metadata": {},
   "source": [
    "# Print and plot the data"
   ]
  },
  {
   "cell_type": "code",
   "execution_count": 4,
   "metadata": {},
   "outputs": [
    {
     "name": "stdout",
     "output_type": "stream",
     "text": [
      "[<SkyCoord (FK5: equinox=J2000.000): (ra, dec) in deg\n",
      "    (189.05364583, 28.98301111)>, <SkyCoord (FK5: equinox=J2000.000): (ra, dec) in deg\n",
      "    (345.36152083, -38.977895)>, <SkyCoord (FK5: equinox=J2000.000): (ra, dec) in deg\n",
      "    (246.18504167, -27.54066472)>]\n",
      "[0.2248, 0.1607, 0.254]\n",
      "[17.12, 21.258, 19.83]\n",
      "[0.01, 0.07, 0.03]\n"
     ]
    }
   ],
   "source": [
    "print(host_coords)\n",
    "print(zred)\n",
    "print(magAB_r)\n",
    "print(magAB_unc_r)"
   ]
  },
  {
   "cell_type": "code",
   "execution_count": 5,
   "metadata": {},
   "outputs": [
    {
     "data": {
      "image/png": "[encoded data removed]",
      "text/plain": [
       "<Figure size 720x720 with 1 Axes>"
      ]
     },
     "metadata": {
      "needs_background": "light"
     },
     "output_type": "display_data"
    }
   ],
   "source": [
    "# Basic Plot\n",
    "fig = plt.figure(figsize=(10,10))\n",
    "\n",
    "for i in np.arange(0, len(name), 1):\n",
    "    if zred[i]!= None:\n",
    "        # If this is an upper limit\n",
    "        if magAB_unc_r[i] == 0:\n",
    "            plt.scatter(zred[i], magAB_r[i], color='white', s=200, marker = 'v', edgecolors='purple', linewidths=5)\n",
    "        # If this is not an upper limit\n",
    "        else:\n",
    "            plt.scatter(zred[i], magAB_r[i], color='orchid', s=200, edgecolors='k', linewidths=5)\n",
    "        \n",
    "        \n",
    "plt.xlabel(r'$z$', fontsize=30)\n",
    "plt.ylabel(r'$r$ [mag AB]', fontsize=30)\n",
    "\n",
    "plt.scatter(-100, -100, s=200, color='white', edgecolors='k', label='Magnitude', linewidths=5)\n",
    "plt.scatter(-100, -100, s=200, color='white', marker = 'v', edgecolors='k', label='Upper Limit', linewidths=5)\n",
    "\n",
    "\n",
    "plt.xlim(-0.1,3.0)\n",
    "plt.ylim(11.2,28) \n",
    "plt.legend(loc='lower right', fontsize=20)\n",
    "\n",
    "\n",
    "for ax in fig.get_axes():\n",
    "    ax.tick_params(axis='both', labelsize=20, length=12, width=2, direction='in')\n",
    "    \n",
    "    \n",
    "# When you're ready to save\n",
    "#plt.savefig('r_band_mag.pdf', dpi=300)\n",
    "plt.show()"
   ]
  },
  {
   "cell_type": "code",
   "execution_count": null,
   "metadata": {},
   "outputs": [],
   "source": []
  }
 ],
 "metadata": {
  "kernelspec": {
   "display_name": "Python 3",
   "language": "python",
   "name": "python3"
  },
  "language_info": {
   "codemirror_mode": {
    "name": "ipython",
    "version": 3
   },
   "file_extension": ".py",
   "mimetype": "text/x-python",
   "name": "python",
   "nbconvert_exporter": "python",
   "pygments_lexer": "ipython3",
   "version": "3.7.11"
  }
 },
 "nbformat": 4,
 "nbformat_minor": 4
}
